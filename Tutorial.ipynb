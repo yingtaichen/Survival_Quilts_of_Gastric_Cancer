{
 "cells": [
  {
   "cell_type": "markdown",
   "metadata": {},
   "source": [
    "# Tutorial for the Survival Quilts of Gastric Cancer\n",
    "This notebook file will give an example of the use process of code and the validation results of four models on SEER/NCC datasets."
   ]
  },
  {
   "cell_type": "markdown",
   "metadata": {},
   "source": [
    "## Import libraries\n",
    "The training and validation process of the Survival Quilts model has been encapsulated in the Code/train_and_validation.py file."
   ]
  },
  {
   "cell_type": "code",
   "execution_count": 1,
   "metadata": {},
   "outputs": [],
   "source": [
    "import sys\n",
    "sys.path.append(\"Code/\")\n",
    "\n",
    "from Code.train_and_validation import train_the_model\n",
    "from Code.train_and_validation import validate_the_model"
   ]
  },
  {
   "cell_type": "markdown",
   "metadata": {},
   "source": [
    "## Train Survival Quilts\n",
    "Train models of different modes (with different end events, OS or CSS) and store."
   ]
  },
  {
   "cell_type": "code",
   "execution_count": 2,
   "metadata": {},
   "outputs": [],
   "source": [
    "#train_the_model(MODE=11, K=10, num_outer=3)\n",
    "#train_the_model(MODE=12, K=10, num_outer=3)\n",
    "#train_the_model(MODE=21, K=10, num_outer=3)\n",
    "#train_the_model(MODE=22, K=10, num_outer=3)"
   ]
  },
  {
   "cell_type": "markdown",
   "metadata": {},
   "source": [
    "## Test Survival Quilts"
   ]
  },
  {
   "cell_type": "code",
   "execution_count": 3,
   "metadata": {},
   "outputs": [
    {
     "name": "stdout",
     "output_type": "stream",
     "text": [
      "=============Start validation of QS_VS_2022092923_10.sav=============\n",
      "-------------Model Parameters-------------\n",
      "Time-horizons for temporal quilting: K = 10\n",
      "BO iteration: num_bo = 50\n",
      "Maximum number of BO: num_outer = 3\n",
      "Quilting patterns: W = \n",
      "[[0.         0.         0.         0.         0.         0.99999999]\n",
      " [0.         0.         0.         0.         0.         0.99999999]\n",
      " [0.         0.         0.         0.         0.         0.99999999]\n",
      " [0.         0.         0.         0.         0.         0.99999999]\n",
      " [0.         0.         0.         0.         0.         0.99999999]\n",
      " [0.         0.         0.         0.         0.         0.99999999]\n",
      " [0.         0.         0.         0.         0.         0.99999999]\n",
      " [0.         0.         0.         0.         0.         0.99999999]\n",
      " [0.         0.         0.         0.         0.         0.99999999]\n",
      " [0.         0.         0.         0.         0.         0.99999999]]\n",
      "-------------Load Datasets-------------\n",
      "Loading data from Dataset/SEER_valid_train.csv with 20583 samples.\n",
      "Loading data from Dataset/SEER_valid_test.csv with 5106 samples.\n",
      "Loading data from Dataset/NCC_valid.csv with 6352 samples.\n",
      "-------------Validation dataset: Dataset/SEER_valid_train.csv-------------\n",
      "Eval_time: 6 | c_index = 0.8609947115.\n",
      "Eval_time: 12 | c_index = 0.8328611761.\n",
      "Eval_time: 24 | c_index = 0.7893222273.\n",
      "Eval_time: 36 | c_index = 0.7662593647.\n",
      "Eval_time: 60 | c_index = 0.7406791036.\n",
      "Eval_time: 120 | c_index = 0.7096537008.\n",
      "-------------Validation dataset: Dataset/SEER_valid_test.csv-------------\n",
      "Eval_time: 6 | c_index = 0.7829767425.\n",
      "Eval_time: 12 | c_index = 0.7395272349.\n",
      "Eval_time: 24 | c_index = 0.7120183969.\n",
      "Eval_time: 36 | c_index = 0.6983788080.\n",
      "Eval_time: 60 | c_index = 0.6811617297.\n",
      "Eval_time: 120 | c_index = 0.6604318734.\n",
      "-------------Validation dataset: Dataset/NCC_valid.csv-------------\n",
      "Eval_time: 6 | c_index = 0.6903573523.\n",
      "Eval_time: 12 | c_index = 0.7565781649.\n",
      "Eval_time: 24 | c_index = 0.7517475048.\n",
      "Eval_time: 36 | c_index = 0.7381543342.\n",
      "Eval_time: 60 | c_index = 0.7216252730.\n",
      "Eval_time: 120 | c_index = 0.7005368881.\n"
     ]
    }
   ],
   "source": [
    "validate_the_model(\"QS_VS_2022092923_10.sav\")"
   ]
  },
  {
   "cell_type": "code",
   "execution_count": 4,
   "metadata": {},
   "outputs": [
    {
     "name": "stdout",
     "output_type": "stream",
     "text": [
      "=============Start validation of QS_VS_NT2_2022092923_10.sav=============\n",
      "-------------Model Parameters-------------\n",
      "Time-horizons for temporal quilting: K = 10\n",
      "BO iteration: num_bo = 50\n",
      "Maximum number of BO: num_outer = 3\n",
      "Quilting patterns: W = \n",
      "[[0.         0.         0.         0.         0.         0.99999999]\n",
      " [0.         0.         0.         0.         0.         0.99999999]\n",
      " [0.         0.         0.         0.         0.         0.99999999]\n",
      " [0.         0.         0.         0.         0.         0.99999999]\n",
      " [0.         0.         0.         0.         0.         0.99999999]\n",
      " [0.         0.         0.         0.         0.         0.99999999]\n",
      " [0.         0.         0.         0.         0.         0.99999999]\n",
      " [0.         0.         0.         0.         0.         0.99999999]\n",
      " [0.         0.         0.         0.         0.         0.99999999]\n",
      " [0.         0.         0.         0.         0.         0.99999999]]\n",
      "-------------Load Datasets-------------\n",
      "Loading data from Dataset/SEER_valid_NeoadjuvantTherapy_2_train.csv with 16606 samples.\n",
      "Loading data from Dataset/SEER_valid_NeoadjuvantTherapy_2_test.csv with 4105 samples.\n",
      "Loading data from Dataset/NCC_valid_NeoadjuvantTherapy_2.csv with 5898 samples.\n",
      "-------------Validation dataset: Dataset/SEER_valid_NeoadjuvantTherapy_2_train.csv-------------\n",
      "Eval_time: 6 | c_index = 0.8376230574.\n",
      "Eval_time: 12 | c_index = 0.8195433815.\n",
      "Eval_time: 24 | c_index = 0.7832741808.\n",
      "Eval_time: 36 | c_index = 0.7621737679.\n",
      "Eval_time: 60 | c_index = 0.7379414319.\n",
      "Eval_time: 120 | c_index = 0.7001922227.\n",
      "-------------Validation dataset: Dataset/SEER_valid_NeoadjuvantTherapy_2_test.csv-------------\n",
      "Eval_time: 6 | c_index = 0.7773775591.\n",
      "Eval_time: 12 | c_index = 0.7494069975.\n",
      "Eval_time: 24 | c_index = 0.7317167978.\n",
      "Eval_time: 36 | c_index = 0.7149501977.\n",
      "Eval_time: 60 | c_index = 0.6941997635.\n",
      "Eval_time: 120 | c_index = 0.6629542399.\n",
      "-------------Validation dataset: Dataset/NCC_valid_NeoadjuvantTherapy_2.csv-------------\n",
      "Eval_time: 6 | c_index = 0.6981430510.\n",
      "Eval_time: 12 | c_index = 0.7694862686.\n",
      "Eval_time: 24 | c_index = 0.7675180083.\n",
      "Eval_time: 36 | c_index = 0.7529243796.\n",
      "Eval_time: 60 | c_index = 0.7364620863.\n",
      "Eval_time: 120 | c_index = 0.7169547589.\n"
     ]
    }
   ],
   "source": [
    "validate_the_model(\"QS_VS_NT2_2022092923_10.sav\")"
   ]
  },
  {
   "cell_type": "code",
   "execution_count": 5,
   "metadata": {},
   "outputs": [
    {
     "name": "stdout",
     "output_type": "stream",
     "text": [
      "=============Start validation of QS_CSD_2022092923_10.sav=============\n",
      "-------------Model Parameters-------------\n",
      "Time-horizons for temporal quilting: K = 10\n",
      "BO iteration: num_bo = 50\n",
      "Maximum number of BO: num_outer = 3\n",
      "Quilting patterns: W = \n",
      "[[0.         0.         0.         0.         0.         0.99999999]\n",
      " [0.         0.         0.         0.         0.         0.99999999]\n",
      " [0.         0.         0.         0.         0.         0.99999999]\n",
      " [0.         0.         0.         0.         0.         0.99999999]\n",
      " [0.         0.         0.         0.         0.         0.99999999]\n",
      " [0.         0.         0.         0.         0.         0.99999999]\n",
      " [0.         0.         0.         0.         0.         0.99999999]\n",
      " [0.         0.         0.         0.         0.         0.99999999]\n",
      " [0.         0.         0.         0.         0.         0.99999999]\n",
      " [0.         0.         0.         0.         0.         0.99999999]]\n",
      "-------------Load Datasets-------------\n",
      "Loading data from Dataset/SEER_valid_train.csv with 20583 samples.\n",
      "Loading data from Dataset/SEER_valid_test.csv with 5106 samples.\n",
      "-------------Validation dataset: Dataset/SEER_valid_train.csv-------------\n",
      "Eval_time: 6 | c_index = 0.8774388604.\n",
      "Eval_time: 12 | c_index = 0.8568449301.\n",
      "Eval_time: 24 | c_index = 0.8196559329.\n",
      "Eval_time: 36 | c_index = 0.8012794441.\n",
      "Eval_time: 60 | c_index = 0.7836634334.\n",
      "Eval_time: 120 | c_index = 0.7735907890.\n",
      "-------------Validation dataset: Dataset/SEER_valid_test.csv-------------\n",
      "Eval_time: 6 | c_index = 0.7901690367.\n",
      "Eval_time: 12 | c_index = 0.7627766716.\n",
      "Eval_time: 24 | c_index = 0.7404622841.\n",
      "Eval_time: 36 | c_index = 0.7279418156.\n",
      "Eval_time: 60 | c_index = 0.7180271051.\n",
      "Eval_time: 120 | c_index = 0.7077378871.\n"
     ]
    }
   ],
   "source": [
    "validate_the_model(\"QS_CSD_2022092923_10.sav\")"
   ]
  },
  {
   "cell_type": "code",
   "execution_count": 6,
   "metadata": {},
   "outputs": [
    {
     "name": "stdout",
     "output_type": "stream",
     "text": [
      "=============Start validation of QS_CSD_NT2_2022100110_10.sav=============\n",
      "-------------Model Parameters-------------\n",
      "Time-horizons for temporal quilting: K = 10\n",
      "BO iteration: num_bo = 50\n",
      "Maximum number of BO: num_outer = 3\n",
      "Quilting patterns: W = \n",
      "[[0.         0.         0.         0.         0.         0.99999999]\n",
      " [0.         0.         0.         0.         0.         0.99999999]\n",
      " [0.         0.         0.         0.         0.         0.99999999]\n",
      " [0.         0.         0.         0.         0.         0.99999999]\n",
      " [0.         0.         0.         0.         0.         0.99999999]\n",
      " [0.         0.         0.         0.         0.         0.99999999]\n",
      " [0.         0.         0.         0.         0.         0.99999999]\n",
      " [0.         0.         0.         0.         0.         0.99999999]\n",
      " [0.         0.         0.         0.         0.         0.99999999]\n",
      " [0.         0.         0.         0.         0.         0.99999999]]\n",
      "-------------Load Datasets-------------\n",
      "Loading data from Dataset/SEER_valid_NeoadjuvantTherapy_2_train.csv with 16606 samples.\n",
      "Loading data from Dataset/SEER_valid_NeoadjuvantTherapy_2_test.csv with 4105 samples.\n",
      "-------------Validation dataset: Dataset/SEER_valid_NeoadjuvantTherapy_2_train.csv-------------\n",
      "Eval_time: 6 | c_index = 0.8544840757.\n",
      "Eval_time: 12 | c_index = 0.8472546949.\n",
      "Eval_time: 24 | c_index = 0.8190354377.\n",
      "Eval_time: 36 | c_index = 0.8021242437.\n",
      "Eval_time: 60 | c_index = 0.7877324191.\n",
      "Eval_time: 120 | c_index = 0.7762713865.\n",
      "-------------Validation dataset: Dataset/SEER_valid_NeoadjuvantTherapy_2_test.csv-------------\n",
      "Eval_time: 6 | c_index = 0.7964013725.\n",
      "Eval_time: 12 | c_index = 0.7715849264.\n",
      "Eval_time: 24 | c_index = 0.7573887876.\n",
      "Eval_time: 36 | c_index = 0.7472278512.\n",
      "Eval_time: 60 | c_index = 0.7322510262.\n",
      "Eval_time: 120 | c_index = 0.7198145286.\n"
     ]
    }
   ],
   "source": [
    "validate_the_model(\"QS_CSD_NT2_2022100110_10.sav\")"
   ]
  }
 ],
 "metadata": {
  "kernelspec": {
   "display_name": "Python 3.7.13 ('Py37sp')",
   "language": "python",
   "name": "python3"
  },
  "language_info": {
   "codemirror_mode": {
    "name": "ipython",
    "version": 3
   },
   "file_extension": ".py",
   "mimetype": "text/x-python",
   "name": "python",
   "nbconvert_exporter": "python",
   "pygments_lexer": "ipython3",
   "version": "3.7.13"
  },
  "orig_nbformat": 4,
  "vscode": {
   "interpreter": {
    "hash": "bc6262d51ba20483529c5588bcb53db8e353e8aea427656b07e8a9cfbf1d7fc9"
   }
  }
 },
 "nbformat": 4,
 "nbformat_minor": 2
}
